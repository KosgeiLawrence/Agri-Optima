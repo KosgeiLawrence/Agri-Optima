{
 "cells": [
  {
   "cell_type": "markdown",
   "id": "656776f3",
   "metadata": {},
   "source": [
    "# Soil Analysis Using CNN"
   ]
  },
  {
   "cell_type": "code",
   "execution_count": 20,
   "id": "5d86e3be",
   "metadata": {},
   "outputs": [],
   "source": [
    "import tensorflow as tf\n",
    "from tensorflow import keras\n",
    "import numpy as np\n",
    "import pandas as pd\n",
    "import os"
   ]
  },
  {
   "cell_type": "code",
   "execution_count": 21,
   "id": "bd0389ca",
   "metadata": {},
   "outputs": [],
   "source": [
    "dir_black = os.path.join('Soil types/Black Soil')\n",
    "dir_Cinder = os.path.join('Soil types/Cinder Soil')\n",
    "dir_Laterite = os.path.join('Soil types/Laterite Soil')\n",
    "dir_peat = os.path.join('Soil types/Peat Soil')\n",
    "dir_yellow = os.path.join('Soil types/Yellow Soil')"
   ]
  },
  {
   "cell_type": "code",
   "execution_count": 22,
   "id": "e44ac3c9",
   "metadata": {},
   "outputs": [],
   "source": [
    "image_size = 220\n",
    "batch_size = 10\n",
    "target_size = (image_size, image_size)\n",
    "input_shape = (image_size, image_size, 3)"
   ]
  },
  {
   "cell_type": "code",
   "execution_count": 23,
   "id": "c2e471ba",
   "metadata": {},
   "outputs": [
    {
     "name": "stdout",
     "output_type": "stream",
     "text": [
      "Found 156 images belonging to 5 classes.\n"
     ]
    }
   ],
   "source": [
    "from tensorflow.keras.preprocessing.image import ImageDataGenerator\n",
    "train_datagen = ImageDataGenerator(rescale=1/255)\n",
    "train_generator = train_datagen.flow_from_directory(\n",
    "        'Soil types/', \n",
    "        target_size=(200, 200),\n",
    "        batch_size = batch_size,\n",
    "        classes = [ 'Black Soil','Cinder Soil', 'Laterite Soil','Peat Soil','Yellow Soil'],\n",
    "       class_mode='categorical')"
   ]
  },
  {
   "cell_type": "code",
   "execution_count": 24,
   "id": "b04007e4",
   "metadata": {},
   "outputs": [],
   "source": [
    "for image_batch, label_batch in train_generator:\n",
    "  break\n",
    "  image_batch.shape, label_batch.shape"
   ]
  },
  {
   "cell_type": "code",
   "execution_count": 25,
   "id": "8ffc13e8",
   "metadata": {},
   "outputs": [
    {
     "name": "stdout",
     "output_type": "stream",
     "text": [
      "{'Black Soil': 0, 'Cinder Soil': 1, 'Laterite Soil': 2, 'Peat Soil': 3, 'Yellow Soil': 4}\n"
     ]
    }
   ],
   "source": [
    "print (train_generator.class_indices)"
   ]
  },
  {
   "cell_type": "code",
   "execution_count": 26,
   "id": "1d1b0c9a",
   "metadata": {},
   "outputs": [],
   "source": [
    "model = tf.keras.models.Sequential([\n",
    "    tf.keras.layers.Conv2D(16, (3,3), activation='relu', input_shape=(220, 220, 3)),\n",
    "    tf.keras.layers.MaxPooling2D(2, 2),\n",
    "    tf.keras.layers.Conv2D(32, (3,3), activation='relu'),\n",
    "    tf.keras.layers.MaxPooling2D(2,2),\n",
    "    tf.keras.layers.Conv2D(64, (3,3), activation='relu'),\n",
    "    tf.keras.layers.MaxPooling2D(2,2),\n",
    "    tf.keras.layers.Conv2D(64, (3,3), activation='relu'),\n",
    "    tf.keras.layers.MaxPooling2D(2,2),\n",
    "    tf.keras.layers.Conv2D(64, (3,3), activation='relu'),\n",
    "    tf.keras.layers.MaxPooling2D(2,2),\n",
    "    tf.keras.layers.Flatten(),\n",
    "    tf.keras.layers.Dense(128, activation='relu'),\n",
    "    tf.keras.layers.Dense(5, activation='softmax')\n",
    "])"
   ]
  },
  {
   "cell_type": "code",
   "execution_count": 27,
   "id": "eba33859",
   "metadata": {},
   "outputs": [
    {
     "name": "stdout",
     "output_type": "stream",
     "text": [
      "Model: \"sequential_1\"\n",
      "_________________________________________________________________\n",
      " Layer (type)                Output Shape              Param #   \n",
      "=================================================================\n",
      " conv2d_5 (Conv2D)           (None, 218, 218, 16)      448       \n",
      "                                                                 \n",
      " max_pooling2d_5 (MaxPoolin  (None, 109, 109, 16)      0         \n",
      " g2D)                                                            \n",
      "                                                                 \n",
      " conv2d_6 (Conv2D)           (None, 107, 107, 32)      4640      \n",
      "                                                                 \n",
      " max_pooling2d_6 (MaxPoolin  (None, 53, 53, 32)        0         \n",
      " g2D)                                                            \n",
      "                                                                 \n",
      " conv2d_7 (Conv2D)           (None, 51, 51, 64)        18496     \n",
      "                                                                 \n",
      " max_pooling2d_7 (MaxPoolin  (None, 25, 25, 64)        0         \n",
      " g2D)                                                            \n",
      "                                                                 \n",
      " conv2d_8 (Conv2D)           (None, 23, 23, 64)        36928     \n",
      "                                                                 \n",
      " max_pooling2d_8 (MaxPoolin  (None, 11, 11, 64)        0         \n",
      " g2D)                                                            \n",
      "                                                                 \n",
      " conv2d_9 (Conv2D)           (None, 9, 9, 64)          36928     \n",
      "                                                                 \n",
      " max_pooling2d_9 (MaxPoolin  (None, 4, 4, 64)          0         \n",
      " g2D)                                                            \n",
      "                                                                 \n",
      " flatten_1 (Flatten)         (None, 1024)              0         \n",
      "                                                                 \n",
      " dense_2 (Dense)             (None, 128)               131200    \n",
      "                                                                 \n",
      " dense_3 (Dense)             (None, 5)                 645       \n",
      "                                                                 \n",
      "=================================================================\n",
      "Total params: 229285 (895.64 KB)\n",
      "Trainable params: 229285 (895.64 KB)\n",
      "Non-trainable params: 0 (0.00 Byte)\n",
      "_________________________________________________________________\n"
     ]
    }
   ],
   "source": [
    "model.summary()"
   ]
  },
  {
   "cell_type": "code",
   "execution_count": 28,
   "id": "a2321341",
   "metadata": {},
   "outputs": [],
   "source": [
    "from tensorflow.keras.optimizers import RMSprop\n",
    "model.compile(loss='categorical_crossentropy',\n",
    "              optimizer=RMSprop(learning_rate=0.001),\n",
    "              metrics=['acc'])"
   ]
  },
  {
   "cell_type": "code",
   "execution_count": 29,
   "id": "6466fbac",
   "metadata": {},
   "outputs": [],
   "source": [
    "total_sample = train_generator.n\n",
    "n_epochs = 50"
   ]
  },
  {
   "cell_type": "code",
   "execution_count": 30,
   "id": "86cbf11d",
   "metadata": {},
   "outputs": [
    {
     "name": "stdout",
     "output_type": "stream",
     "text": [
      "Epoch 1/50\n"
     ]
    },
    {
     "name": "stdout",
     "output_type": "stream",
     "text": [
      "15/15 [==============================] - 4s 161ms/step - loss: 1.6299 - acc: 0.1918\n",
      "Epoch 2/50\n",
      "15/15 [==============================] - 3s 187ms/step - loss: 1.4204 - acc: 0.3767\n",
      "Epoch 3/50\n",
      "15/15 [==============================] - 3s 176ms/step - loss: 1.1020 - acc: 0.4178\n",
      "Epoch 4/50\n",
      "15/15 [==============================] - 3s 171ms/step - loss: 1.0812 - acc: 0.4315\n",
      "Epoch 5/50\n",
      "15/15 [==============================] - 3s 167ms/step - loss: 1.0491 - acc: 0.4589\n",
      "Epoch 6/50\n",
      "15/15 [==============================] - 3s 172ms/step - loss: 0.9335 - acc: 0.6438\n",
      "Epoch 7/50\n",
      "15/15 [==============================] - 2s 150ms/step - loss: 0.8653 - acc: 0.5685\n",
      "Epoch 8/50\n",
      "15/15 [==============================] - 2s 148ms/step - loss: 0.8033 - acc: 0.6575\n",
      "Epoch 9/50\n",
      "15/15 [==============================] - 2s 155ms/step - loss: 0.6718 - acc: 0.7466\n",
      "Epoch 10/50\n",
      "15/15 [==============================] - 2s 154ms/step - loss: 0.5246 - acc: 0.8067\n",
      "Epoch 11/50\n",
      "15/15 [==============================] - 2s 152ms/step - loss: 0.7360 - acc: 0.7671\n",
      "Epoch 12/50\n",
      "15/15 [==============================] - 2s 158ms/step - loss: 0.5891 - acc: 0.7808\n",
      "Epoch 13/50\n",
      "15/15 [==============================] - 2s 158ms/step - loss: 0.5211 - acc: 0.8151\n",
      "Epoch 14/50\n",
      "15/15 [==============================] - 2s 155ms/step - loss: 0.5337 - acc: 0.8151\n",
      "Epoch 15/50\n",
      "15/15 [==============================] - 2s 164ms/step - loss: 0.4596 - acc: 0.8151\n",
      "Epoch 16/50\n",
      "15/15 [==============================] - 3s 172ms/step - loss: 0.4261 - acc: 0.8630\n",
      "Epoch 17/50\n",
      "15/15 [==============================] - 2s 161ms/step - loss: 0.4123 - acc: 0.8533\n",
      "Epoch 18/50\n",
      "15/15 [==============================] - 2s 163ms/step - loss: 0.4130 - acc: 0.8699\n",
      "Epoch 19/50\n",
      "15/15 [==============================] - 3s 175ms/step - loss: 0.3679 - acc: 0.8630\n",
      "Epoch 20/50\n",
      "15/15 [==============================] - 3s 167ms/step - loss: 0.3887 - acc: 0.8699\n",
      "Epoch 21/50\n",
      "15/15 [==============================] - 2s 164ms/step - loss: 0.3906 - acc: 0.8562\n",
      "Epoch 22/50\n",
      "15/15 [==============================] - 3s 172ms/step - loss: 0.2807 - acc: 0.9110\n",
      "Epoch 23/50\n",
      "15/15 [==============================] - 2s 160ms/step - loss: 0.3159 - acc: 0.8836\n",
      "Epoch 24/50\n",
      "15/15 [==============================] - 3s 166ms/step - loss: 0.4867 - acc: 0.8562\n",
      "Epoch 25/50\n",
      "15/15 [==============================] - 3s 176ms/step - loss: 0.3387 - acc: 0.8904\n",
      "Epoch 26/50\n",
      "15/15 [==============================] - 3s 168ms/step - loss: 0.3759 - acc: 0.9178\n",
      "Epoch 27/50\n",
      "15/15 [==============================] - 2s 158ms/step - loss: 0.2594 - acc: 0.9178\n",
      "Epoch 28/50\n",
      "15/15 [==============================] - 3s 192ms/step - loss: 0.2242 - acc: 0.9247\n",
      "Epoch 29/50\n",
      "15/15 [==============================] - 2s 159ms/step - loss: 0.3631 - acc: 0.8904\n",
      "Epoch 30/50\n",
      "15/15 [==============================] - 2s 163ms/step - loss: 0.2909 - acc: 0.9110\n",
      "Epoch 31/50\n",
      "15/15 [==============================] - 2s 153ms/step - loss: 0.3213 - acc: 0.8973\n",
      "Epoch 32/50\n",
      "15/15 [==============================] - 2s 158ms/step - loss: 0.1920 - acc: 0.9315\n",
      "Epoch 33/50\n",
      "15/15 [==============================] - 3s 169ms/step - loss: 0.2601 - acc: 0.8904\n",
      "Epoch 34/50\n",
      "15/15 [==============================] - 3s 166ms/step - loss: 0.3094 - acc: 0.8904\n",
      "Epoch 35/50\n",
      "15/15 [==============================] - 2s 155ms/step - loss: 0.2043 - acc: 0.9589\n",
      "Epoch 36/50\n",
      "15/15 [==============================] - 3s 168ms/step - loss: 0.2947 - acc: 0.9315\n",
      "Epoch 37/50\n",
      "15/15 [==============================] - 2s 163ms/step - loss: 0.1624 - acc: 0.9384\n",
      "Epoch 38/50\n",
      "15/15 [==============================] - 3s 173ms/step - loss: 0.3152 - acc: 0.9315\n",
      "Epoch 39/50\n",
      "15/15 [==============================] - 3s 165ms/step - loss: 0.1882 - acc: 0.9667\n",
      "Epoch 40/50\n",
      "15/15 [==============================] - 2s 161ms/step - loss: 0.2410 - acc: 0.9178\n",
      "Epoch 41/50\n",
      "15/15 [==============================] - 3s 166ms/step - loss: 0.1477 - acc: 0.9452\n",
      "Epoch 42/50\n",
      "15/15 [==============================] - 3s 188ms/step - loss: 0.1999 - acc: 0.9658\n",
      "Epoch 43/50\n",
      "15/15 [==============================] - 3s 171ms/step - loss: 0.3330 - acc: 0.9247\n",
      "Epoch 44/50\n",
      "15/15 [==============================] - 2s 157ms/step - loss: 0.0755 - acc: 0.9658\n",
      "Epoch 45/50\n",
      "15/15 [==============================] - 2s 157ms/step - loss: 0.0575 - acc: 0.9932\n",
      "Epoch 46/50\n",
      "15/15 [==============================] - 2s 159ms/step - loss: 0.4792 - acc: 0.9110\n",
      "Epoch 47/50\n",
      "15/15 [==============================] - 2s 158ms/step - loss: 0.0407 - acc: 0.9933\n",
      "Epoch 48/50\n",
      "15/15 [==============================] - 2s 155ms/step - loss: 0.0139 - acc: 1.0000\n",
      "Epoch 49/50\n",
      "15/15 [==============================] - 3s 168ms/step - loss: 0.2398 - acc: 0.9667\n",
      "Epoch 50/50\n",
      "15/15 [==============================] - 2s 157ms/step - loss: 0.1912 - acc: 0.9658\n"
     ]
    }
   ],
   "source": [
    "history = model.fit(\n",
    "        train_generator, \n",
    "        steps_per_epoch = int(total_sample/batch_size),  \n",
    "        epochs = n_epochs,\n",
    "        verbose = 1)"
   ]
  },
  {
   "cell_type": "code",
   "execution_count": 31,
   "id": "e050edf3",
   "metadata": {},
   "outputs": [],
   "source": [
    "import matplotlib.pyplot as plt"
   ]
  },
  {
   "cell_type": "code",
   "execution_count": 32,
   "id": "0dac6de5",
   "metadata": {},
   "outputs": [
    {
     "ename": "TypeError",
     "evalue": "'History' object is not subscriptable",
     "output_type": "error",
     "traceback": [
      "\u001b[0;31m---------------------------------------------------------------------------\u001b[0m",
      "\u001b[0;31mTypeError\u001b[0m                                 Traceback (most recent call last)",
      "\u001b[1;32m/Users/shivom/Documents/InternshipProject/AgriOptima Models/Soil Inspection/Soil Analysis.ipynb Cell 14\u001b[0m line \u001b[0;36m2\n\u001b[1;32m      <a href='vscode-notebook-cell:/Users/shivom/Documents/InternshipProject/AgriOptima%20Models/Soil%20Inspection/Soil%20Analysis.ipynb#X16sZmlsZQ%3D%3D?line=0'>1</a>\u001b[0m plt\u001b[39m.\u001b[39mfigure(figsize\u001b[39m=\u001b[39m(\u001b[39m7\u001b[39m,\u001b[39m4\u001b[39m))\n\u001b[0;32m----> <a href='vscode-notebook-cell:/Users/shivom/Documents/InternshipProject/AgriOptima%20Models/Soil%20Inspection/Soil%20Analysis.ipynb#X16sZmlsZQ%3D%3D?line=1'>2</a>\u001b[0m plt\u001b[39m.\u001b[39mplot([i\u001b[39m+\u001b[39m\u001b[39m1\u001b[39m \u001b[39mfor\u001b[39;00m i \u001b[39min\u001b[39;00m \u001b[39mrange\u001b[39m(n_epochs)],history[\u001b[39m'\u001b[39m\u001b[39macc\u001b[39m\u001b[39m'\u001b[39m],\u001b[39m'\u001b[39m\u001b[39m-o\u001b[39m\u001b[39m'\u001b[39m,c\u001b[39m=\u001b[39m\u001b[39m'\u001b[39m\u001b[39mk\u001b[39m\u001b[39m'\u001b[39m,lw\u001b[39m=\u001b[39m\u001b[39m2\u001b[39m,markersize\u001b[39m=\u001b[39m\u001b[39m9\u001b[39m)\n\u001b[1;32m      <a href='vscode-notebook-cell:/Users/shivom/Documents/InternshipProject/AgriOptima%20Models/Soil%20Inspection/Soil%20Analysis.ipynb#X16sZmlsZQ%3D%3D?line=2'>3</a>\u001b[0m plt\u001b[39m.\u001b[39mgrid(\u001b[39mTrue\u001b[39;00m)\n\u001b[1;32m      <a href='vscode-notebook-cell:/Users/shivom/Documents/InternshipProject/AgriOptima%20Models/Soil%20Inspection/Soil%20Analysis.ipynb#X16sZmlsZQ%3D%3D?line=3'>4</a>\u001b[0m plt\u001b[39m.\u001b[39mtitle(\u001b[39m\"\u001b[39m\u001b[39mTraining accuracy with epochs\u001b[39m\u001b[39m\\n\u001b[39;00m\u001b[39m\"\u001b[39m,fontsize\u001b[39m=\u001b[39m\u001b[39m18\u001b[39m)\n",
      "\u001b[0;31mTypeError\u001b[0m: 'History' object is not subscriptable"
     ]
    },
    {
     "data": {
      "text/plain": [
       "<Figure size 700x400 with 0 Axes>"
      ]
     },
     "metadata": {},
     "output_type": "display_data"
    }
   ],
   "source": [
    "plt.figure(figsize=(7,4))\n",
    "plt.plot([i+1 for i in range(n_epochs)],history['acc'],'-o',c='k',lw=2,markersize=9)\n",
    "plt.grid(True)\n",
    "plt.title(\"Training accuracy with epochs\\n\",fontsize=18)\n",
    "plt.xlabel(\"Training epochs\",fontsize=15)\n",
    "plt.ylabel(\"Training accuracy\",fontsize=15)\n",
    "plt.xticks(fontsize=15)\n",
    "plt.yticks(fontsize=15)\n",
    "plt.show()"
   ]
  },
  {
   "cell_type": "code",
   "execution_count": null,
   "metadata": {},
   "outputs": [
    {
     "data": {
      "image/png": "[encoded data removed]",
      "text/plain": [
       "<Figure size 1000x600 with 1 Axes>"
      ]
     },
     "metadata": {},
     "output_type": "display_data"
    }
   ],
   "source": [
    "import matplotlib.pyplot as plt\n",
    "import seaborn as sns\n",
    "\n",
    "# Your existing data and plot code\n",
    "n_epochs = 10  # Assuming this is defined somewhere in your code\n",
    "history = {'acc': [0.5, 0.6, 0.7, 0.75, 0.8, 0.85, 0.9, 0.92, 0.94, 0.95]}  # Example data\n",
    "\n",
    "plt.figure(figsize=(10, 6))  # Adjust the figure size to your preference\n",
    "\n",
    "# Setting a Seaborn style\n",
    "sns.set_style(\"whitegrid\")\n",
    "\n",
    "# Plotting the data with improved aesthetics\n",
    "plt.plot(range(1, n_epochs + 1), history['acc'], marker='o', color='skyblue', linewidth=2, markersize=9)\n",
    "\n",
    "# Title and labels with increased font sizes\n",
    "plt.title(\"Training Accuracy with Epochs\", fontsize=20)\n",
    "plt.xlabel(\"Training Epochs\", fontsize=15)\n",
    "plt.ylabel(\"Training Accuracy\", fontsize=15)\n",
    "plt.xticks(fontsize=12)\n",
    "plt.yticks(fontsize=12)\n",
    "\n",
    "# Customizing background color and tick colors\n",
    "plt.gca().set_facecolor('#f5f5f5')  # Set background color\n",
    "plt.tick_params(axis='x', colors='gray')  # Set x-axis tick color\n",
    "plt.tick_params(axis='y', colors='gray')  # Set y-axis tick color\n",
    "\n",
    "# Showing the plot\n",
    "plt.show()\n"
   ]
  },
  {
   "cell_type": "code",
   "execution_count": null,
   "id": "b73a4ce7",
   "metadata": {},
   "outputs": [],
   "source": [
    "model.save('soil_analysis_V1.h5')"
   ]
  },
  {
   "cell_type": "markdown",
   "id": "386259e5",
   "metadata": {},
   "source": [
    "# End"
   ]
  }
 ],
 "metadata": {
  "kernelspec": {
   "display_name": "Python 3 (ipykernel)",
   "language": "python",
   "name": "python3"
  },
  "language_info": {
   "codemirror_mode": {
    "name": "ipython",
    "version": 3
   },
   "file_extension": ".py",
   "mimetype": "text/x-python",
   "name": "python",
   "nbconvert_exporter": "python",
   "pygments_lexer": "ipython3",
   "version": "3.11.5"
  }
 },
 "nbformat": 4,
 "nbformat_minor": 5
}
